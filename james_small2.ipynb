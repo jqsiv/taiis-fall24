{
 "cells": [
  {
   "cell_type": "code",
   "execution_count": 5,
   "id": "d73d8f88-3e61-48fa-a50e-592bdf2616b5",
   "metadata": {
    "tags": []
   },
   "outputs": [],
   "source": [
    "\n",
    "# In this project, I will take play by play data from the 2019-2020 NBA basketball season ...\n",
    "# ...and train a predictive model that deduces whether a shot -- given a certain context(i.e. Time Remaining, Quarter, Score Margin, Shot Type) --  will (\"probably\") be made or missed\n",
    "\n",
    "# install the below libraries in addition to those covered in the lessons\n",
    "\n",
    "\n",
    "#install nba_api\n",
    "#install pandas\n",
    "#install numpy"
   ]
  },
  {
   "cell_type": "code",
   "execution_count": 23,
   "id": "9c64b226-9fcd-4fc3-a9d0-d3b10b6c0d2d",
   "metadata": {
    "tags": []
   },
   "outputs": [],
   "source": [
    "#initialize our libraries\n",
    "from nba_api.stats.endpoints import leaguegamefinder, playbyplayv2\n",
    "import pandas as pd\n",
    "import time\n",
    "import numpy as np\n",
    "\n",
    "\n",
    "# '''\n",
    "# This notebook will tackle each step subsequently. \n",
    "# A function will first be defined and tested. Then verified, executed, and ouputs stored. Then we will move to the next step.\n",
    "\n",
    "# A general outline is as follows.\n",
    "# 1. Get a list of games from the specified season -- or their IDs in this case.\n",
    "# 2. Get the play by play data for the games in that season.\n",
    "# 3. Extract Relevant data -- Mining\n",
    "# 4. Manipulate and Model Data\n",
    "# 5. Train Our Model\n",
    "# 6. Evaluate Out Model\n",
    "# '''"
   ]
  },
  {
   "cell_type": "code",
   "execution_count": 7,
   "id": "e99fab7a-0578-4990-a994-7323ce9c2249",
   "metadata": {
    "tags": []
   },
   "outputs": [],
   "source": [
    "# Step 1: Get a list of games for a specific season\n",
    "#Using the leaguegamefinder endpoint we can retrieve a dataframe of all games in a season\n",
    "#While this data includes things like final scores and other high-level information, we only want indetifiers so that we can point to specific instances in another separate dataset\n",
    "#We only return a single column and make sure there are no repeat entries\n",
    "def get_season_games(season_year='2019-20'):\n",
    "    gamefinder = leaguegamefinder.LeagueGameFinder(season_nullable=season_year)\n",
    "    games_df = gamefinder.get_data_frames()[0]\n",
    "    return games_df['GAME_ID'].unique()"
   ]
  },
  {
   "cell_type": "code",
   "execution_count": 8,
   "id": "042033f3-dfec-41da-af7b-d4b4064e3c48",
   "metadata": {
    "tags": []
   },
   "outputs": [
    {
     "data": {
      "text/plain": [
       "array(['0041900406', '0041900405', '0041900404', ..., '0011900004',\n",
       "       '0011900002', '0011900001'], dtype=object)"
      ]
     },
     "execution_count": 8,
     "metadata": {},
     "output_type": "execute_result"
    }
   ],
   "source": [
    "#Here we are using the previously defined function to store the game IDs and call it to verify it's contents\n",
    "game_ids = get_season_games('2019-20')\n",
    "game_ids"
   ]
  },
  {
   "cell_type": "code",
   "execution_count": 9,
   "id": "3219d72f-6bc2-4c1b-940f-2b3c96fad5be",
   "metadata": {
    "tags": []
   },
   "outputs": [],
   "source": [
    "#Step 2: Retrieve a dataframe with all play by play 'calls' for all games retrieved\n",
    "#By iterating over our game_ids array, we can fetch the data for each instance.\n",
    "#We construct a dataframe with these requests.\n",
    "def get_play_by_play_data(game_ids):\n",
    "    all_play_by_play_data = []\n",
    "    for game_id in game_ids:\n",
    "        print(game_id)\n",
    "        try:\n",
    "            pbp = playbyplayv2.PlayByPlayV2(game_id=game_id)\n",
    "            pbp_df = pbp.get_data_frames()[0]\n",
    "            pbp_df['GAME_ID'] = game_id\n",
    "            all_play_by_play_data.append(pbp_df)\n",
    "            time.sleep(1)  # To avoid hitting rate limits\n",
    "        except Exception as e:\n",
    "            print(f\"Error fetching data for game {game_id}: {e}\")\n",
    "    \n",
    "    combined_df = pd.concat(all_play_by_play_data, ignore_index=True)\n",
    "    return combined_df"
   ]
  },
  {
   "cell_type": "code",
   "execution_count": 10,
   "id": "55c55fc7-f068-4fce-914f-9c65654030a9",
   "metadata": {
    "tags": []
   },
   "outputs": [
    {
     "name": "stdout",
     "output_type": "stream",
     "text": [
      "0041900406\n",
      "0041900405\n",
      "0041900404\n",
      "0041900403\n",
      "0041900402\n",
      "0041900401\n",
      "0041900306\n",
      "0041900315\n",
      "0041900305\n",
      "0041900314\n",
      "0041900304\n",
      "0041900313\n",
      "0041900312\n",
      "0041900303\n",
      "0041900311\n",
      "0041900302\n",
      "0041900237\n",
      "0041900301\n",
      "0041900236\n",
      "0041900225\n",
      "0041900235\n",
      "0041900217\n",
      "0041900224\n",
      "0041900234\n",
      "0041900216\n",
      "0041900223\n",
      "0041900205\n",
      "0041900215\n",
      "0041900233\n",
      "0041900204\n",
      "0041900222\n",
      "0041900232\n",
      "0041900214\n",
      "0041900203\n",
      "0041900221\n",
      "0041900213\n",
      "0041900231\n",
      "0041900202\n",
      "0041900177\n",
      "0041900212\n",
      "0041900167\n",
      "0041900176\n",
      "0041900201\n",
      "0041900156\n",
      "0041900166\n",
      "0041900211\n",
      "0041900175\n",
      "0041900105\n",
      "0041900145\n",
      "0041900155\n",
      "0041900165\n",
      "0041900174\n",
      "0041900144\n",
      "0041900104\n",
      "0041900134\n",
      "0041900124\n",
      "0041900114\n",
      "0041900154\n",
      "0041900164\n",
      "0041900173\n",
      "0041900133\n",
      "0041900103\n",
      "0041900143\n",
      "0041900113\n",
      "0041900123\n",
      "0041900163\n",
      "0041900153\n",
      "0041900172\n",
      "0041900102\n",
      "0041900132\n",
      "0041900142\n",
      "0041900152\n",
      "0041900112\n",
      "0041900122\n",
      "0041900162\n",
      "0041900171\n",
      "0041900101\n",
      "0041900131\n",
      "0041900141\n",
      "0041900161\n",
      "0041900111\n",
      "0041900151\n",
      "0041900121\n",
      "0051900111\n",
      "0021901315\n",
      "0021901317\n",
      "0021901318\n",
      "0021901316\n",
      "0021901312\n",
      "0021901308\n",
      "0021901313\n",
      "0021901311\n",
      "0021901309\n",
      "0021901310\n",
      "0021901314\n",
      "0021901305\n",
      "0021901306\n",
      "0021901307\n",
      "0021901304\n",
      "0021901300\n",
      "0021901302\n",
      "0021901301\n",
      "0021901297\n",
      "0021901303\n",
      "0021901298\n",
      "0021901299\n",
      "0021901294\n",
      "0021901295\n",
      "0021901293\n",
      "0021901292\n",
      "0021901296\n",
      "0021901285\n",
      "0021901291\n",
      "0021901289\n",
      "0021901290\n",
      "0021901286\n",
      "0021901287\n",
      "0021901288\n",
      "0021901281\n",
      "0021901280\n",
      "0021901283\n",
      "0021901282\n",
      "0021901284\n",
      "0021901277\n",
      "0021901279\n",
      "0021901276\n",
      "0021901274\n",
      "0021901275\n",
      "0021901278\n",
      "0021901273\n",
      "0021901271\n",
      "0021901269\n",
      "0021901268\n",
      "0021901272\n",
      "0021901270\n",
      "0021901265\n",
      "0021901262\n",
      "0021901264\n",
      "0021901267\n",
      "0021901266\n",
      "0021901263\n",
      "0021901261\n",
      "0021901258\n",
      "0021901257\n",
      "0021901259\n",
      "0021901260\n",
      "0021901256\n",
      "0021901255\n",
      "0021901253\n",
      "0021901251\n",
      "0021901252\n",
      "0021901250\n",
      "0021901254\n",
      "0021901246\n",
      "0021901249\n",
      "0021901245\n",
      "0021901248\n",
      "0021901244\n",
      "0021901247\n",
      "0021901242\n",
      "0021901243\n",
      "0021901239\n",
      "0021901241\n",
      "0021901240\n",
      "0021901238\n",
      "0021901234\n",
      "0021901233\n",
      "0021901237\n",
      "0021901236\n",
      "0021901235\n",
      "0021901231\n",
      "0021901232\n",
      "0011900130\n",
      "0011900132\n",
      "0011900131\n",
      "0011900129\n",
      "0011900128\n",
      "0011900133\n",
      "0011900123\n",
      "0011900124\n",
      "0011900127\n",
      "0011900126\n",
      "0011900125\n",
      "0011900119\n",
      "0011900121\n",
      "0011900122\n",
      "0011900118\n",
      "0011900120\n",
      "0011900112\n",
      "0011900114\n",
      "0011900116\n",
      "0011900117\n",
      "0011900113\n",
      "0011900115\n",
      "0011900111\n",
      "0011900109\n",
      "0011900110\n",
      "0011900105\n",
      "0011900106\n",
      "0011900107\n",
      "0011900108\n",
      "0011900102\n",
      "0011900103\n",
      "0011900101\n",
      "0011900104\n",
      "2021900026\n",
      "0021900973\n",
      "0021900970\n",
      "2021900567\n",
      "2021900569\n",
      "2021900566\n",
      "0021900969\n",
      "0021900971\n",
      "2021900565\n",
      "2021900570\n",
      "2021900564\n",
      "2021900562\n",
      "2021900561\n",
      "0021900967\n",
      "0021900964\n",
      "0021900966\n",
      "0021900961\n",
      "0021900965\n",
      "2021900563\n",
      "0021900962\n",
      "0021900963\n",
      "0021900960\n",
      "0021900968\n",
      "0021900958\n",
      "0021900957\n",
      "0021900959\n",
      "2021900560\n",
      "0021900947\n",
      "2021900553\n",
      "0021900946\n",
      "2021900558\n",
      "0021900950\n",
      "0021900955\n",
      "2021900554\n",
      "0021900956\n",
      "0021900953\n",
      "0021900954\n",
      "2021900556\n",
      "0021900952\n",
      "0021900951\n",
      "2021900557\n",
      "0021900949\n",
      "2021900559\n",
      "0021900948\n",
      "2021900555\n",
      "0021900940\n",
      "0021900943\n",
      "0021900945\n",
      "2021900550\n",
      "2021900547\n",
      "2021900549\n",
      "0021900942\n",
      "2021900548\n",
      "0021900941\n",
      "2021900551\n",
      "2021900552\n",
      "0021900944\n",
      "0021900933\n",
      "2021900539\n",
      "0021900939\n",
      "0021900938\n",
      "2021900538\n",
      "2021900546\n",
      "0021900930\n",
      "0021900932\n",
      "0021900936\n",
      "2021900543\n",
      "0021900937\n",
      "2021900541\n",
      "0021900931\n",
      "2021900536\n",
      "0021900934\n",
      "2021900540\n",
      "0021900935\n",
      "2021900542\n",
      "2021900544\n",
      "2021900545\n",
      "2021900537\n",
      "0021900928\n",
      "0021900929\n",
      "0021900927\n",
      "0021900926\n",
      "0021900925\n",
      "2021900529\n",
      "0021900923\n",
      "2021900532\n",
      "2021900534\n",
      "2021900533\n",
      "0021900917\n",
      "0021900918\n",
      "2021900530\n",
      "0021900922\n",
      "0021900924\n",
      "0021900921\n",
      "2021900531\n",
      "0021900919\n",
      "0021900920\n",
      "2021900535\n",
      "0021900914\n",
      "0021900912\n",
      "2021900528\n",
      "0021900915\n",
      "2021900527\n",
      "0021900916\n",
      "0021900910\n",
      "0021900913\n",
      "2021900485\n",
      "0021900909\n",
      "0021900911\n",
      "2021900526\n",
      "0021900908\n",
      "0021900902\n",
      "0021900905\n",
      "0021900903\n",
      "0021900907\n",
      "0021900906\n",
      "2021900525\n",
      "0021900904\n",
      "2021900524\n",
      "0021900898\n",
      "0021900900\n",
      "0021900896\n",
      "0021900895\n",
      "0021900897\n",
      "2021900522\n",
      "0021900901\n",
      "2021900523\n",
      "0021900899\n",
      "0021900893\n",
      "2021900517\n",
      "0021900889\n",
      "0021900888\n",
      "2021900514\n",
      "0021900890\n",
      "2021900513\n",
      "2021900512\n",
      "2021900516\n",
      "2021900521\n",
      "2021900520\n",
      "0021900894\n",
      "0021900891\n",
      "0021900887\n",
      "2021900511\n",
      "2021900518\n",
      "2021900515\n",
      "0021900892\n",
      "2021900519\n",
      "0021900882\n",
      "2021900509\n",
      "2021900510\n",
      "2021900507\n",
      "0021900886\n",
      "0021900885\n",
      "2021900508\n",
      "0021900877\n",
      "0021900880\n",
      "0021900884\n",
      "0021900881\n",
      "0021900878\n",
      "0021900879\n",
      "0021900883\n",
      "0021900876\n",
      "2021900503\n",
      "2021900502\n",
      "2021900505\n",
      "2021900506\n",
      "0021900874\n",
      "0021900875\n",
      "0021900873\n",
      "2021900504\n",
      "2021900501\n",
      "0021900868\n",
      "0021900871\n",
      "0021900866\n",
      "0021900872\n",
      "0021900864\n",
      "2021900500\n",
      "0021900867\n",
      "0021900869\n",
      "0021900865\n",
      "2021900499\n",
      "0021900870\n",
      "2021900498\n",
      "2021900497\n",
      "0021900860\n",
      "2021900496\n",
      "0021900863\n",
      "2021900495\n",
      "0021900858\n",
      "0021900862\n",
      "0021900857\n",
      "2021900491\n",
      "0021900859\n",
      "2021900490\n",
      "2021900492\n",
      "2021900494\n",
      "2021900493\n",
      "0021900861\n",
      "0021900852\n",
      "0021900851\n",
      "2021900488\n",
      "0021900850\n",
      "0021900856\n",
      "0021900849\n",
      "0021900855\n",
      "0021900853\n",
      "0021900854\n",
      "2021900489\n",
      "2021900483\n",
      "0021900847\n",
      "0021900843\n",
      "2021900484\n",
      "0021900842\n",
      "0021900848\n",
      "0021900846\n",
      "2021900486\n",
      "2021900487\n",
      "0021900845\n",
      "0021900844\n",
      "2021900482\n",
      "0021900836\n",
      "0021900839\n",
      "2021900480\n",
      "2021900477\n",
      "2021900476\n",
      "0021900835\n",
      "2021900478\n",
      "0021900837\n",
      "0021900838\n",
      "2021900475\n",
      "2021900481\n",
      "0021900841\n",
      "2021900479\n",
      "0021900840\n",
      "0021900829\n",
      "0021900834\n",
      "2021900471\n",
      "2021900474\n",
      "0021900832\n",
      "0021900828\n",
      "2021900473\n",
      "0021900827\n",
      "0021900830\n",
      "0021900826\n",
      "0021900833\n",
      "2021900472\n",
      "0021900831\n",
      "2021900470\n",
      "2021900469\n",
      "2021900466\n",
      "0021900825\n",
      "0021900823\n",
      "0021900824\n",
      "0021900820\n",
      "2021900468\n",
      "2021900467\n",
      "0021900821\n",
      "2021900465\n",
      "0021900822\n",
      "2021900461\n",
      "2021900462\n",
      "2021900458\n",
      "2021900459\n",
      "2021900464\n",
      "2021900463\n",
      "2021900457\n",
      "2021900460\n",
      "0031900001\n",
      "0031900002\n",
      "0031900003\n",
      "0021900818\n",
      "2021900454\n",
      "2021900450\n",
      "2021900452\n",
      "2021900453\n"
     ]
    }
   ],
   "source": [
    "#Here we call the function defined above and store the data.\n",
    "#Our function prints every game id to notice if our environment freezes or a request times out.\n",
    "combined_df = get_play_by_play_data(game_ids[:480])"
   ]
  },
  {
   "cell_type": "code",
   "execution_count": 11,
   "id": "3eb9486d-e52b-41a5-8511-9d02c708dbdb",
   "metadata": {
    "tags": []
   },
   "outputs": [],
   "source": [
    "#re-store the dataframe to a simpler name\n",
    "d=combined_df"
   ]
  },
  {
   "cell_type": "code",
   "execution_count": 12,
   "id": "cb84f01f-f4a4-4807-aec9-dbe12d1a6d14",
   "metadata": {
    "tags": []
   },
   "outputs": [],
   "source": [
    "#Step 3: In order to mine the data we want, we only pull the entries that are made and missed shots\n",
    "# Our d datafram has several columns, but we want to focus on 5 as we continue to mine/model the data.\n",
    "#Right now we will focus on 'EVENTMSGTYPE' which maps a variety of number to different court events such as a rebound, steal, foul, and most importantly to us ... shots\n",
    "#Made shots are mapped to 1 and missed shots are mapped to 2.\n",
    "#We can extract these events by checking which entries have 1s and 2s in this column\n",
    "shot_events = d[d['EVENTMSGTYPE'].isin([1, 2])]"
   ]
  },
  {
   "cell_type": "code",
   "execution_count": 13,
   "id": "99b51143-e255-40dc-a22d-4a4d12b61e4a",
   "metadata": {
    "tags": []
   },
   "outputs": [
    {
     "name": "stdout",
     "output_type": "stream",
     "text": [
      "           GAME_ID EVENTNUM EVENTMSGTYPE EVENTMSGACTIONTYPE PERIOD  \\\n",
      "2       0041900406        7            1                  1      1   \n",
      "3       0041900406        9            1                 52      1   \n",
      "4       0041900406       11            2                 80      1   \n",
      "6       0041900406       13            2                  1      1   \n",
      "8       0041900406       15            2                 79      1   \n",
      "...            ...      ...          ...                ...    ...   \n",
      "226549  2021900453      635            2                  5      4   \n",
      "226551  2021900453      637            1                 79      4   \n",
      "226553  2021900453      640            1                 75      4   \n",
      "226555  2021900453      642            1                  1      4   \n",
      "226561  2021900453      649            2                  5      4   \n",
      "\n",
      "       WCTIMESTRING PCTIMESTRING  \\\n",
      "2           7:41 PM        11:48   \n",
      "3           7:41 PM        11:25   \n",
      "4           7:41 PM        11:11   \n",
      "6           7:42 PM        11:02   \n",
      "8           7:42 PM        10:53   \n",
      "...             ...          ...   \n",
      "226549      8:55 PM         0:55   \n",
      "226551      8:55 PM         0:50   \n",
      "226553      8:56 PM         0:26   \n",
      "226555      8:58 PM         0:18   \n",
      "226561      9:00 PM         0:01   \n",
      "\n",
      "                                        HOMEDESCRIPTION NEUTRALDESCRIPTION  \\\n",
      "2                                                  None               None   \n",
      "3       Adebayo 1' Alley Oop Dunk (2 PTS) (Herro 1 AST)               None   \n",
      "4                                                  None               None   \n",
      "6                           MISS Robinson 3PT Jump Shot               None   \n",
      "8                                                  None               None   \n",
      "...                                                 ...                ...   \n",
      "226549                               MISS Bone 5' Layup               None   \n",
      "226551                                             None               None   \n",
      "226553       Bone 4' Driving Finger Roll Layup (17 PTS)               None   \n",
      "226555                                             None               None   \n",
      "226561                                             None               None   \n",
      "\n",
      "                                       VISITORDESCRIPTION  ...  \\\n",
      "2               Davis 18' Jump Shot (2 PTS) (James 1 AST)  ...   \n",
      "3                                                    None  ...   \n",
      "4                      MISS Davis 16' Step Back Jump Shot  ...   \n",
      "6                                                    None  ...   \n",
      "8                 MISS Caldwell-Pope 19' Pullup Jump Shot  ...   \n",
      "...                                                   ...  ...   \n",
      "226549                                               None  ...   \n",
      "226551  Mooney 3PT Pullup Jump Shot (9 PTS) (Randolph ...  ...   \n",
      "226553                                               None  ...   \n",
      "226555  Newman 27' 3PT Jump Shot (28 PTS) (Randolph 4 ...  ...   \n",
      "226561                               MISS Newman 2' Layup  ...   \n",
      "\n",
      "       PLAYER2_TEAM_NICKNAME PLAYER2_TEAM_ABBREVIATION  PERSON3TYPE  \\\n",
      "2                     Lakers                       LAL            0   \n",
      "3                       Heat                       MIA            0   \n",
      "4                       None                      None            0   \n",
      "6                       None                      None            0   \n",
      "8                       None                      None            0   \n",
      "...                      ...                       ...          ...   \n",
      "226549                  None                      None            0   \n",
      "226551                Charge                       CTN            0   \n",
      "226553                  None                      None            0   \n",
      "226555                Charge                       CTN            0   \n",
      "226561                  None                      None            0   \n",
      "\n",
      "       PLAYER3_ID PLAYER3_NAME  PLAYER3_TEAM_ID PLAYER3_TEAM_CITY  \\\n",
      "2               0         None              NaN              None   \n",
      "3               0         None              NaN              None   \n",
      "4               0         None              NaN              None   \n",
      "6               0         None              NaN              None   \n",
      "8               0         None              NaN              None   \n",
      "...           ...          ...              ...               ...   \n",
      "226549          0         None              NaN              None   \n",
      "226551          0         None              NaN              None   \n",
      "226553          0         None              NaN              None   \n",
      "226555          0         None              NaN              None   \n",
      "226561          0         None              NaN              None   \n",
      "\n",
      "       PLAYER3_TEAM_NICKNAME PLAYER3_TEAM_ABBREVIATION VIDEO_AVAILABLE_FLAG  \n",
      "2                       None                      None                    1  \n",
      "3                       None                      None                    1  \n",
      "4                       None                      None                    1  \n",
      "6                       None                      None                    1  \n",
      "8                       None                      None                    1  \n",
      "...                      ...                       ...                  ...  \n",
      "226549                  None                      None                    0  \n",
      "226551                  None                      None                    0  \n",
      "226553                  None                      None                    0  \n",
      "226555                  None                      None                    0  \n",
      "226561                  None                      None                    0  \n",
      "\n",
      "[84601 rows x 34 columns]\n"
     ]
    }
   ],
   "source": [
    "#We will print the new data frame to verify successful extraction and explore our data set. Most of it is junk?/fluff?/placeholder...\n",
    "print(shot_events)"
   ]
  },
  {
   "cell_type": "code",
   "execution_count": 14,
   "id": "40b8bd4a-e5e0-41dc-9599-a585421dcd6e",
   "metadata": {
    "tags": []
   },
   "outputs": [
    {
     "name": "stderr",
     "output_type": "stream",
     "text": [
      "/var/folders/c7/tjnc1nv13vl7684g7d2d8thm0000gn/T/ipykernel_4123/53527258.py:13: SettingWithCopyWarning: \n",
      "A value is trying to be set on a copy of a slice from a DataFrame.\n",
      "Try using .loc[row_indexer,col_indexer] = value instead\n",
      "\n",
      "See the caveats in the documentation: https://pandas.pydata.org/pandas-docs/stable/user_guide/indexing.html#returning-a-view-versus-a-copy\n",
      "  shot_events['SHOT_DESCRIPTION'] = shot_events.apply(extract_shot_description, axis=1)\n"
     ]
    }
   ],
   "source": [
    "#This is an extra step for viewing sake. Here I condence the event descriptions into one column. This makes it easier to identify the mappings of the 'EVENTMSGACTIONTYPES' down the line.\n",
    "#Cleaning up and further the parsing the data at this point may prove to be helpful in future iterations of this model.\n",
    "def extract_shot_description(row):\n",
    "    if pd.notna(row['HOMEDESCRIPTION']) and 'Shot' in row['HOMEDESCRIPTION']:\n",
    "        return row['HOMEDESCRIPTION']\n",
    "    elif pd.notna(row['VISITORDESCRIPTION']) and 'Shot' in row['VISITORDESCRIPTION']:\n",
    "        return row['VISITORDESCRIPTION']\n",
    "    elif pd.notna(row['NEUTRALDESCRIPTION']) and 'Shot' in row['NEUTRALDESCRIPTION']:\n",
    "        return row['NEUTRALDESCRIPTION']\n",
    "    return None\n",
    "\n",
    "# Apply the function to extract descriptions of shot types\n",
    "shot_events['SHOT_DESCRIPTION'] = shot_events.apply(extract_shot_description, axis=1)\n",
    "\n",
    "# Filter out rows where the description is None (i.e., no valid shot description)\n",
    "shot_events = shot_events[shot_events['SHOT_DESCRIPTION'].notnull()]"
   ]
  },
  {
   "cell_type": "code",
   "execution_count": 15,
   "id": "00e6c247-19d6-4818-9cb3-02765ab1c9f1",
   "metadata": {
    "tags": []
   },
   "outputs": [
    {
     "name": "stdout",
     "output_type": "stream",
     "text": [
      "{1: 30019, 80: 3580, 79: 9133, 86: 531, 98: 2075, 47: 1143, 78: 1700, 97: 1552, 102: 1086, 101: 3034, 58: 695, 57: 433, 108: 1239, 3: 836, 103: 588, 99: 312, 106: 69, 96: 61, 2: 745, 105: 214, 66: 289, 93: 75, 107: 271, 100: 27, 67: 46, 104: 23, 109: 29, 110: 6}\n",
      "28\n"
     ]
    }
   ],
   "source": [
    "#the following are tests meant to aid in understanding the data and features...\n",
    "\n",
    "#test 1... what type of shots are being taken --frequency/multiplicty\n",
    "#each key represent a shot type (i.e. 1: Jump Shot vs 98: Cutting Layup Shot) ... we notices the data is heavily biased\n",
    "#this further necessitates creating bins and modifiers based on how advanced/difficult a shot it... additionally 3PT jumpshot and a 2PT jumpshot are both represented by 1.\n",
    "#in our data set there are at least 28 distinct shot types (this does not distinguish between 3PT/2PT shots of the same type i.e. step back, pull up)\n",
    "\n",
    "sd={}\n",
    "for i in shot_events['EVENTMSGACTIONTYPE']:\n",
    "    if i not in sd:\n",
    "        sd[i]=1\n",
    "    sd[i]+=1\n",
    "print(sd)\n",
    "print(len(sd))"
   ]
  },
  {
   "cell_type": "code",
   "execution_count": 17,
   "id": "eee2ce79-1dd8-4c4e-97fa-e1a8cd5802cf",
   "metadata": {
    "tags": []
   },
   "outputs": [
    {
     "name": "stdout",
     "output_type": "stream",
     "text": [
      "1       1        Davis 18' Jump Shot (2 PTS) (James 1 AST)\n",
      "80       2        MISS Davis 16' Step Back Jump Shot\n",
      "1       2        MISS Robinson 3PT Jump Shot\n",
      "79       2        MISS Caldwell-Pope 19' Pullup Jump Shot\n",
      "86       2        MISS Davis 11' Turnaround Fadeaway Shot\n",
      "79       2        MISS Herro 15' Pullup Jump Shot\n",
      "79       2        MISS Green 24' 3PT Pullup Jump Shot\n",
      "98       2        MISS Adebayo 3' Cutting Layup Shot\n",
      "1       1        Robinson 26' 3PT Jump Shot (3 PTS) (Butler 1 AST)\n",
      "1       2        MISS James 27' 3PT Jump Shot\n",
      "47       2        MISS Butler 6' Turnaround Jump Shot\n",
      "1       1        Robinson 28' 3PT Jump Shot (6 PTS) (Herro 2 AST)\n",
      "1       2        MISS Green 26' 3PT Jump Shot\n",
      "1       1        Green 24' 3PT Jump Shot (3 PTS) (Davis 1 AST)\n",
      "78       2        MISS Adebayo 10' Floating Jump Shot\n",
      "98       1        Herro 2' Cutting Layup Shot (2 PTS) (Butler 2 AST)\n",
      "1       2        MISS Caldwell-Pope 25' 3PT Jump Shot\n",
      "1       2        MISS Crowder 27' 3PT Jump Shot\n",
      "98       1        Rondo 1' Cutting Layup Shot (2 PTS) (James 2 AST)\n",
      "1       2        MISS Kuzma 26' 3PT Jump Shot\n"
     ]
    }
   ],
   "source": [
    "#test 2 ... elucidate the shot type/description to EVENTMSGACTIONTYPE mappings\n",
    "for k in range(20):\n",
    "    for j in sd:\n",
    "        if j == shot_events['EVENTMSGACTIONTYPE'].iloc[k]:      \n",
    "            print(j, '     ', shot_events['EVENTMSGTYPE'].iloc[k],'      ',shot_events['SHOT_DESCRIPTION'].iloc[k])"
   ]
  },
  {
   "cell_type": "code",
   "execution_count": 18,
   "id": "eaaf4e5f-9cd0-49f9-9815-70550bbac93d",
   "metadata": {
    "tags": []
   },
   "outputs": [
    {
     "name": "stdout",
     "output_type": "stream",
     "text": [
      "1       1       1        11:48        -2        Davis 18' Jump Shot (2 PTS) (James 1 AST)\n",
      "2       80       1        11:11        None        MISS Davis 16' Step Back Jump Shot\n",
      "2       1       1        11:02        None        MISS Robinson 3PT Jump Shot\n",
      "2       79       1        10:53        None        MISS Caldwell-Pope 19' Pullup Jump Shot\n",
      "2       86       1        10:17        None        MISS Davis 11' Turnaround Fadeaway Shot\n",
      "2       79       1        9:48        None        MISS Herro 15' Pullup Jump Shot\n",
      "2       79       1        9:42        None        MISS Green 24' 3PT Pullup Jump Shot\n",
      "2       98       1        9:28        None        MISS Adebayo 3' Cutting Layup Shot\n",
      "1       1       1        9:08        -1        Robinson 26' 3PT Jump Shot (3 PTS) (Butler 1 AST)\n",
      "2       1       1        8:31        None        MISS James 27' 3PT Jump Shot\n",
      "2       47       1        7:56        None        MISS Butler 6' Turnaround Jump Shot\n",
      "1       1       1        7:26        TIE        Robinson 28' 3PT Jump Shot (6 PTS) (Herro 2 AST)\n",
      "2       1       1        6:57        None        MISS Green 26' 3PT Jump Shot\n",
      "1       1       1        6:50        -3        Green 24' 3PT Jump Shot (3 PTS) (Davis 1 AST)\n",
      "2       78       1        6:27        None        MISS Adebayo 10' Floating Jump Shot\n",
      "1       98       1        5:19        TIE        Herro 2' Cutting Layup Shot (2 PTS) (Butler 2 AST)\n",
      "2       1       1        4:58        None        MISS Caldwell-Pope 25' 3PT Jump Shot\n",
      "2       1       1        4:41        None        MISS Crowder 27' 3PT Jump Shot\n",
      "1       98       1        4:25        -2        Rondo 1' Cutting Layup Shot (2 PTS) (James 2 AST)\n",
      "2       1       1        3:34        None        MISS Kuzma 26' 3PT Jump Shot\n",
      "1       1       1        3:24        -1        Nunn 26' 3PT Jump Shot (3 PTS)\n",
      "2       1       1        3:02        None        MISS Caldwell-Pope 24' 3PT Jump Shot\n",
      "2       1       1        2:31        None        MISS Butler 25' 3PT Jump Shot\n",
      "1       1       1        1:38        -4        Butler 3PT Jump Shot (3 PTS) (Robinson 1 AST)\n",
      "1       80       1        1:22        -6        Davis 18' Step Back Jump Shot (8 PTS)\n",
      "2       80       1        0:41        None        MISS Dragic 26' 3PT Step Back Jump Shot\n",
      "2       1       1        0:20        None        MISS Caruso 25' 3PT Jump Shot\n",
      "1       79       2        11:08        -10        Rondo 25' 3PT Pullup Jump Shot (9 PTS)\n",
      "2       1       2        10:42        None        MISS Iguodala 26' 3PT Jump Shot\n",
      "2       1       2        10:31        None        MISS Iguodala 27' 3PT Jump Shot\n",
      "2       97       2        10:16        None        MISS Butler 1' Tip Layup Shot\n",
      "2       97       2        9:45        None        MISS Morris 1' Tip Layup Shot\n",
      "2       102       2        9:09        None        MISS Green 4' Driving Floating Bank Jump Shot\n",
      "1       1       2        8:41        -13        Morris 24' 3PT Jump Shot (3 PTS) (Green 1 AST)\n",
      "2       1       2        8:12        None        MISS Morris 25' 3PT Jump Shot\n",
      "1       101       2        7:57        -11        Butler 12' Driving Floating Jump Shot (6 PTS) (Crowder 1 AST)\n",
      "2       101       2        7:41        None        MISS Caruso 13' Driving Floating Jump Shot\n",
      "1       97       2        7:40        -13        Caruso 1' Tip Layup Shot (2 PTS)\n",
      "2       1       2        7:14        None        MISS Crowder 26' 3PT Jump Shot\n",
      "2       1       2        6:51        None        MISS Davis 3PT Jump Shot\n",
      "2       1       2        6:40        None        MISS Green 26' 3PT Jump Shot\n",
      "2       101       2        6:28        None        MISS Adebayo 7' Driving Floating Jump Shot\n",
      "2       79       2        6:24        None        MISS Herro 24' 3PT Pullup Jump Shot\n",
      "1       1       2        5:22        -14        Crowder 26' 3PT Jump Shot (6 PTS) (Butler 4 AST)\n",
      "1       78       2        5:12        -16        Davis 9' Floating Jump Shot (10 PTS)\n",
      "1       102       2        4:19        -16        Caldwell-Pope 11' Driving Floating Bank Jump Shot (6 PTS) (James 4 AST)\n",
      "2       58       2        3:30        None        MISS Davis 11' Turnaround Hook Shot\n",
      "2       1       2        3:16        None        MISS Crowder 27' 3PT Jump Shot\n",
      "2       102       2        2:24        None        MISS Butler 11' Driving Floating Bank Jump Shot\n",
      "2       97       2        2:18        None        MISS James 1' Tip Layup Shot\n"
     ]
    }
   ],
   "source": [
    "#test 3 ... display other relevant data\n",
    "# this includes the columns 'PERIOD','PCTIMESTRING','SCOREMARGIN'\n",
    "#here we notice that our play clock and score margin provide crucial timeseries data but might need to be transformed in order to be incorporated into our model\n",
    "\n",
    "for k in range(50):\n",
    "    for j in sd:\n",
    "        if j == shot_events['EVENTMSGACTIONTYPE'].iloc[k]:\n",
    "            print(shot_events['EVENTMSGTYPE'].iloc[k], '     ',j, '     ', shot_events['PERIOD'].iloc[k],'      ',shot_events['PCTIMESTRING'].iloc[k] ,'      ',shot_events['SCOREMARGIN'].iloc[k] ,'      ',shot_events['SHOT_DESCRIPTION'].iloc[k])"
   ]
  },
  {
   "cell_type": "code",
   "execution_count": 19,
   "id": "4dd0ee90-c3a5-4073-8a50-867a2e3c40bb",
   "metadata": {
    "tags": []
   },
   "outputs": [
    {
     "name": "stdout",
     "output_type": "stream",
     "text": [
      "59783\n"
     ]
    }
   ],
   "source": [
    "#we have this many datapoints available to train with\n",
    "print(len(shot_events))"
   ]
  },
  {
   "cell_type": "code",
   "execution_count": 24,
   "id": "c94b5f95-328c-4e89-a9fa-4a3e4e578f8e",
   "metadata": {
    "tags": []
   },
   "outputs": [
    {
     "name": "stdout",
     "output_type": "stream",
     "text": [
      "2        -2.0\n",
      "4        -2.0\n",
      "6        -2.0\n",
      "8        -2.0\n",
      "11       -2.0\n",
      "         ... \n",
      "226529    7.0\n",
      "226534    7.0\n",
      "226539    7.0\n",
      "226551    2.0\n",
      "226555    1.0\n",
      "Name: SCOREMARGIN, Length: 59783, dtype: float64\n"
     ]
    }
   ],
   "source": [
    "#Our score margins are only entered into our shot_events dataframe on makes so we need to retroactive fill in any missing values ()\n",
    "shot_events['SCOREMARGIN'].replace('None', np.nan, inplace=True)\n",
    "shot_events['SCOREMARGIN'].replace('tie', 0, inplace=True)\n",
    "\n",
    "# Convert to numeric, forcing errors to NaN\n",
    "shot_events['SCOREMARGIN'] = pd.to_numeric(shot_events['SCOREMARGIN'], errors='coerce')\n",
    "\n",
    "# Forward fill NaN with the last valid numeric value\n",
    "shot_events['SCOREMARGIN'].fillna(method='ffill', inplace=True)\n",
    "\n",
    "# Check results\n",
    "print(shot_events['SCOREMARGIN'])"
   ]
  },
  {
   "cell_type": "code",
   "execution_count": 25,
   "id": "977eed20-d35c-4535-8547-acb07a45e6ed",
   "metadata": {
    "tags": []
   },
   "outputs": [
    {
     "data": {
      "text/plain": [
       "2         11:48\n",
       "4         11:11\n",
       "6         11:02\n",
       "8         10:53\n",
       "11        10:17\n",
       "          ...  \n",
       "226529     3:05\n",
       "226534     2:18\n",
       "226539     1:41\n",
       "226551     0:50\n",
       "226555     0:18\n",
       "Name: PCTIMESTRING, Length: 59783, dtype: object"
      ]
     },
     "execution_count": 25,
     "metadata": {},
     "output_type": "execute_result"
    }
   ],
   "source": [
    "#we are now going to convert our times string to seconds to be better read in a time series\n",
    "shot_events['PCTIMESTRING']"
   ]
  },
  {
   "cell_type": "code",
   "execution_count": 26,
   "id": "c453164a-f21a-4da2-a931-9c2f49a1f6d9",
   "metadata": {
    "tags": []
   },
   "outputs": [
    {
     "name": "stdout",
     "output_type": "stream",
     "text": [
      "2         708\n",
      "4         671\n",
      "6         662\n",
      "8         653\n",
      "11        617\n",
      "         ... \n",
      "226529    185\n",
      "226534    138\n",
      "226539    101\n",
      "226551     50\n",
      "226555     18\n",
      "Name: PCTIMESTRING, Length: 59783, dtype: object\n"
     ]
    }
   ],
   "source": [
    "#define out function and verify it works\n",
    "shot_events.loc[shot_events['PCTIMESTRING'] == 'None', 'PCTIMESTRING'] = pd.NA\n",
    "# Split 'PCTIMESTRING' into minutes and seconds, then convert to total seconds\n",
    "def time_to_seconds(time_str):\n",
    "    if pd.isna(time_str):\n",
    "        return None\n",
    "    try:\n",
    "        # First check if it's a string in the format mm:ss\n",
    "        if isinstance(time_str, str) and ':' in time_str:\n",
    "            minutes, seconds = map(int, time_str.split(':'))\n",
    "            return minutes * 60 + seconds\n",
    "        # Otherwise, assume it's already a float or int representing seconds\n",
    "        else:\n",
    "            return float(time_str)\n",
    "    except ValueError:\n",
    "        return None\n",
    "\n",
    "# Apply the function and update the DataFrame using .loc\n",
    "shot_events.loc[:, 'PCTIMESTRING'] = shot_events['PCTIMESTRING'].apply(time_to_seconds)\n",
    "\n",
    "# Display the updated DataFrame\n",
    "print(shot_events['PCTIMESTRING'])"
   ]
  },
  {
   "cell_type": "code",
   "execution_count": 31,
   "id": "f44e1c66-6208-466b-bd09-902e39ae144c",
   "metadata": {
    "tags": []
   },
   "outputs": [
    {
     "data": {
      "text/html": [
       "\n",
       "<style>\n",
       "    /* Turns off some styling */\n",
       "    progress {\n",
       "        /* gets rid of default border in Firefox and Opera. */\n",
       "        border: none;\n",
       "        /* Needs to be in here for Safari polyfill so background images work as expected. */\n",
       "        background-size: auto;\n",
       "    }\n",
       "    progress:not([value]), progress:not([value])::-webkit-progress-bar {\n",
       "        background: repeating-linear-gradient(45deg, #7e7e7e, #7e7e7e 10px, #5c5c5c 10px, #5c5c5c 20px);\n",
       "    }\n",
       "    .progress-bar-interrupted, .progress-bar-interrupted::-webkit-progress-bar {\n",
       "        background: #F44336;\n",
       "    }\n",
       "</style>\n"
      ],
      "text/plain": [
       "<IPython.core.display.HTML object>"
      ]
     },
     "metadata": {},
     "output_type": "display_data"
    },
    {
     "data": {
      "text/html": [
       "<table border=\"1\" class=\"dataframe\">\n",
       "  <thead>\n",
       "    <tr style=\"text-align: left;\">\n",
       "      <th>epoch</th>\n",
       "      <th>train_loss</th>\n",
       "      <th>valid_loss</th>\n",
       "      <th>accuracy</th>\n",
       "      <th>error_rate</th>\n",
       "      <th>time</th>\n",
       "    </tr>\n",
       "  </thead>\n",
       "  <tbody>\n",
       "    <tr>\n",
       "      <td>0</td>\n",
       "      <td>0.649963</td>\n",
       "      <td>0.650181</td>\n",
       "      <td>0.627467</td>\n",
       "      <td>0.372533</td>\n",
       "      <td>00:07</td>\n",
       "    </tr>\n",
       "    <tr>\n",
       "      <td>1</td>\n",
       "      <td>0.650619</td>\n",
       "      <td>0.643255</td>\n",
       "      <td>0.634660</td>\n",
       "      <td>0.365340</td>\n",
       "      <td>00:07</td>\n",
       "    </tr>\n",
       "    <tr>\n",
       "      <td>2</td>\n",
       "      <td>0.642899</td>\n",
       "      <td>0.643002</td>\n",
       "      <td>0.633489</td>\n",
       "      <td>0.366511</td>\n",
       "      <td>00:07</td>\n",
       "    </tr>\n",
       "  </tbody>\n",
       "</table>"
      ],
      "text/plain": [
       "<IPython.core.display.HTML object>"
      ]
     },
     "metadata": {},
     "output_type": "display_data"
    }
   ],
   "source": [
    "#Now that we have mined, modeled, and transformed our data, it is suitable for trainings\n",
    "#We will use the tabular model for our specific data set\n",
    "\n",
    "from fastai.tabular.all import *\n",
    "\n",
    "# Ensure categorical columns are properly formatted\n",
    "shot_events['EVENTMSGACTIONTYPE'] = shot_events['EVENTMSGACTIONTYPE'].astype('category')\n",
    "shot_events['PERIOD'] = shot_events['PERIOD'].astype('category')\n",
    "\n",
    "# Ensure continuous columns are numeric and handle missing values if necessary\n",
    "shot_events['SCOREMARGIN'] = pd.to_numeric(shot_events['SCOREMARGIN'], errors='coerce')\n",
    "shot_events['PCTIMESTRING'] = pd.to_numeric(shot_events['PCTIMESTRING'], errors='coerce')\n",
    "\n",
    "# Define the data loaders\n",
    "dataloaders = TabularDataLoaders.from_df(\n",
    "    shot_events, \n",
    "    path='.', \n",
    "    y_names='EVENTMSGTYPE',\n",
    "    cat_names=['EVENTMSGACTIONTYPE', 'PERIOD'],\n",
    "    cont_names=['SCOREMARGIN','PCTIMESTRING'],\n",
    "    procs=[Categorify, FillMissing, Normalize]\n",
    ")\n",
    "\n",
    "# Define the model using the data loaders\n",
    "learn = tabular_learner(dataloaders, metrics=[accuracy, error_rate])\n",
    "\n",
    "# Train the model\n",
    "learn.fit_one_cycle(3)"
   ]
  },
  {
   "cell_type": "code",
   "execution_count": 32,
   "id": "3c395bf0-35ad-4391-a4d7-2d82d5bfdb0c",
   "metadata": {
    "tags": []
   },
   "outputs": [
    {
     "data": {
      "text/html": [
       "\n",
       "<style>\n",
       "    /* Turns off some styling */\n",
       "    progress {\n",
       "        /* gets rid of default border in Firefox and Opera. */\n",
       "        border: none;\n",
       "        /* Needs to be in here for Safari polyfill so background images work as expected. */\n",
       "        background-size: auto;\n",
       "    }\n",
       "    progress:not([value]), progress:not([value])::-webkit-progress-bar {\n",
       "        background: repeating-linear-gradient(45deg, #7e7e7e, #7e7e7e 10px, #5c5c5c 10px, #5c5c5c 20px);\n",
       "    }\n",
       "    .progress-bar-interrupted, .progress-bar-interrupted::-webkit-progress-bar {\n",
       "        background: #F44336;\n",
       "    }\n",
       "</style>\n"
      ],
      "text/plain": [
       "<IPython.core.display.HTML object>"
      ]
     },
     "metadata": {},
     "output_type": "display_data"
    },
    {
     "data": {
      "text/html": [],
      "text/plain": [
       "<IPython.core.display.HTML object>"
      ]
     },
     "metadata": {},
     "output_type": "display_data"
    },
    {
     "data": {
      "text/html": [
       "\n",
       "<style>\n",
       "    /* Turns off some styling */\n",
       "    progress {\n",
       "        /* gets rid of default border in Firefox and Opera. */\n",
       "        border: none;\n",
       "        /* Needs to be in here for Safari polyfill so background images work as expected. */\n",
       "        background-size: auto;\n",
       "    }\n",
       "    progress:not([value]), progress:not([value])::-webkit-progress-bar {\n",
       "        background: repeating-linear-gradient(45deg, #7e7e7e, #7e7e7e 10px, #5c5c5c 10px, #5c5c5c 20px);\n",
       "    }\n",
       "    .progress-bar-interrupted, .progress-bar-interrupted::-webkit-progress-bar {\n",
       "        background: #F44336;\n",
       "    }\n",
       "</style>\n"
      ],
      "text/plain": [
       "<IPython.core.display.HTML object>"
      ]
     },
     "metadata": {},
     "output_type": "display_data"
    },
    {
     "data": {
      "text/html": [],
      "text/plain": [
       "<IPython.core.display.HTML object>"
      ]
     },
     "metadata": {},
     "output_type": "display_data"
    },
    {
     "data": {
      "image/png": "[encoded data removed]",
      "text/plain": [
       "<Figure size 640x480 with 1 Axes>"
      ]
     },
     "metadata": {},
     "output_type": "display_data"
    }
   ],
   "source": [
    "#from the results we see that our accuracy increases marginally and our error rate the same\n",
    "# Plot a confusion matrix\n",
    "interp = ClassificationInterpretation.from_learner(learn)\n",
    "interp.plot_confusion_matrix()"
   ]
  },
  {
   "cell_type": "code",
   "execution_count": 33,
   "id": "cfb8ac3c-924b-454a-82a1-30078d4dc8e7",
   "metadata": {
    "tags": []
   },
   "outputs": [],
   "source": [
    "# Save the model for the Large Part of the assignment\n",
    "learn.export('model.pkl')"
   ]
  },
  {
   "cell_type": "code",
   "execution_count": 34,
   "id": "4a43a974-a2fb-42e1-8f98-d675a434403d",
   "metadata": {
    "tags": []
   },
   "outputs": [
    {
     "name": "stdout",
     "output_type": "stream",
     "text": [
      "[1, 2]\n"
     ]
    }
   ],
   "source": [
    "# This will give you the class labels\n",
    "print(learn.dls.vocab)"
   ]
  },
  {
   "cell_type": "code",
   "execution_count": 36,
   "id": "2baa84fc-e893-4474-974a-637808ba1fd5",
   "metadata": {
    "tags": []
   },
   "outputs": [],
   "source": [
    "# Suppose the classes were originally 1 = made and 2 = missed\n",
    "class_mapping = {0: \"made\", 1: \"missed\"}\n"
   ]
  },
  {
   "cell_type": "code",
   "execution_count": 42,
   "id": "9a9ee3c3-4bb7-4f74-b933-610ffe5d7455",
   "metadata": {
    "tags": []
   },
   "outputs": [
    {
     "data": {
      "text/html": [
       "\n",
       "<style>\n",
       "    /* Turns off some styling */\n",
       "    progress {\n",
       "        /* gets rid of default border in Firefox and Opera. */\n",
       "        border: none;\n",
       "        /* Needs to be in here for Safari polyfill so background images work as expected. */\n",
       "        background-size: auto;\n",
       "    }\n",
       "    progress:not([value]), progress:not([value])::-webkit-progress-bar {\n",
       "        background: repeating-linear-gradient(45deg, #7e7e7e, #7e7e7e 10px, #5c5c5c 10px, #5c5c5c 20px);\n",
       "    }\n",
       "    .progress-bar-interrupted, .progress-bar-interrupted::-webkit-progress-bar {\n",
       "        background: #F44336;\n",
       "    }\n",
       "</style>\n"
      ],
      "text/plain": [
       "<IPython.core.display.HTML object>"
      ]
     },
     "metadata": {},
     "output_type": "display_data"
    },
    {
     "data": {
      "text/html": [],
      "text/plain": [
       "<IPython.core.display.HTML object>"
      ]
     },
     "metadata": {},
     "output_type": "display_data"
    },
    {
     "name": "stdout",
     "output_type": "stream",
     "text": [
      "Predicted class label: missed\n",
      "Prediction index: 1\n",
      "Raw outputs: tensor([0.3346, 0.6654])\n"
     ]
    },
    {
     "name": "stderr",
     "output_type": "stream",
     "text": [
      "/var/folders/c7/tjnc1nv13vl7684g7d2d8thm0000gn/T/ipykernel_4123/1714924551.py:17: FutureWarning: Calling int on a single element Series is deprecated and will raise a TypeError in the future. Use int(ser.iloc[0]) instead\n",
      "  predicted_class_label = class_mapping[int(pred_class['EVENTMSGTYPE'])]\n"
     ]
    }
   ],
   "source": [
    "#this is where things get wonky because the predct function works but does not return an expected format for the predicted class so we fix that with the previous line and the label created before reporting results\n",
    "#regardless we will continue on... in order to test our predicting model we are going to create entries to see varying results\n",
    "\n",
    "#in the first instance it will be a jumpshot in the second quarter with 2 minutes left and a score margin of 5. PREDICTION: MISSED\n",
    "#in the second instance it will be a pullup jumpshot in the foruth quarter with 10 seconds left and a score margin of -3. PREDICTION: MISSED\n",
    "#in the third instance it will be a cutting layup in the first quarter with 10 minutes left and a score margin of 0. PREDICTION: MADE\n",
    "\n",
    "new_data = pd.DataFrame({\n",
    "    'EVENTMSGACTIONTYPE': [1,79,98],\n",
    "    'PERIOD': [2,4,1],\n",
    "    'SCOREMARGIN': [5.0,-3,0],\n",
    "    'PCTIMESTRING': [120,10,600]  # Example value in seconds\n",
    "})\n",
    "\n",
    "pred_class, pred_idx, outputs = learn.predict(new_data.iloc[0])\n",
    "# Ensure the predicted class maps correctly\n",
    "predicted_class_label = class_mapping[int(pred_class['EVENTMSGTYPE'])]\n",
    "print(f\"Predicted class label: {predicted_class_label}\")\n",
    "\n",
    "print(f\"Prediction index: {pred_idx}\")\n",
    "print(f\"Raw outputs: {outputs}\")"
   ]
  },
  {
   "cell_type": "code",
   "execution_count": 43,
   "id": "170ad358-897a-40a7-b64b-663498f623ec",
   "metadata": {
    "tags": []
   },
   "outputs": [
    {
     "data": {
      "text/html": [
       "\n",
       "<style>\n",
       "    /* Turns off some styling */\n",
       "    progress {\n",
       "        /* gets rid of default border in Firefox and Opera. */\n",
       "        border: none;\n",
       "        /* Needs to be in here for Safari polyfill so background images work as expected. */\n",
       "        background-size: auto;\n",
       "    }\n",
       "    progress:not([value]), progress:not([value])::-webkit-progress-bar {\n",
       "        background: repeating-linear-gradient(45deg, #7e7e7e, #7e7e7e 10px, #5c5c5c 10px, #5c5c5c 20px);\n",
       "    }\n",
       "    .progress-bar-interrupted, .progress-bar-interrupted::-webkit-progress-bar {\n",
       "        background: #F44336;\n",
       "    }\n",
       "</style>\n"
      ],
      "text/plain": [
       "<IPython.core.display.HTML object>"
      ]
     },
     "metadata": {},
     "output_type": "display_data"
    },
    {
     "data": {
      "text/html": [],
      "text/plain": [
       "<IPython.core.display.HTML object>"
      ]
     },
     "metadata": {},
     "output_type": "display_data"
    },
    {
     "name": "stdout",
     "output_type": "stream",
     "text": [
      "Predicted class label: missed\n",
      "Prediction index: 1\n",
      "Raw outputs: tensor([0.3231, 0.6769])\n"
     ]
    },
    {
     "name": "stderr",
     "output_type": "stream",
     "text": [
      "/var/folders/c7/tjnc1nv13vl7684g7d2d8thm0000gn/T/ipykernel_4123/3266013257.py:3: FutureWarning: Calling int on a single element Series is deprecated and will raise a TypeError in the future. Use int(ser.iloc[0]) instead\n",
      "  predicted_class_label = class_mapping[int(pred_class['EVENTMSGTYPE'])]\n"
     ]
    }
   ],
   "source": [
    "pred_class, pred_idx, outputs = learn.predict(new_data.iloc[1])\n",
    "# Ensure the predicted class maps correctly\n",
    "predicted_class_label = class_mapping[int(pred_class['EVENTMSGTYPE'])]\n",
    "print(f\"Predicted class label: {predicted_class_label}\")\n",
    "\n",
    "print(f\"Prediction index: {pred_idx}\")\n",
    "print(f\"Raw outputs: {outputs}\")"
   ]
  },
  {
   "cell_type": "code",
   "execution_count": 40,
   "id": "f6bcde4f-c1ab-4855-a886-651ece2cc6e0",
   "metadata": {
    "tags": []
   },
   "outputs": [
    {
     "data": {
      "text/html": [
       "\n",
       "<style>\n",
       "    /* Turns off some styling */\n",
       "    progress {\n",
       "        /* gets rid of default border in Firefox and Opera. */\n",
       "        border: none;\n",
       "        /* Needs to be in here for Safari polyfill so background images work as expected. */\n",
       "        background-size: auto;\n",
       "    }\n",
       "    progress:not([value]), progress:not([value])::-webkit-progress-bar {\n",
       "        background: repeating-linear-gradient(45deg, #7e7e7e, #7e7e7e 10px, #5c5c5c 10px, #5c5c5c 20px);\n",
       "    }\n",
       "    .progress-bar-interrupted, .progress-bar-interrupted::-webkit-progress-bar {\n",
       "        background: #F44336;\n",
       "    }\n",
       "</style>\n"
      ],
      "text/plain": [
       "<IPython.core.display.HTML object>"
      ]
     },
     "metadata": {},
     "output_type": "display_data"
    },
    {
     "data": {
      "text/html": [],
      "text/plain": [
       "<IPython.core.display.HTML object>"
      ]
     },
     "metadata": {},
     "output_type": "display_data"
    },
    {
     "name": "stdout",
     "output_type": "stream",
     "text": [
      "Predicted class label: made\n",
      "Prediction index: 0\n",
      "Raw outputs: tensor([0.6739, 0.3261])\n"
     ]
    },
    {
     "name": "stderr",
     "output_type": "stream",
     "text": [
      "/var/folders/c7/tjnc1nv13vl7684g7d2d8thm0000gn/T/ipykernel_4123/2759847564.py:3: FutureWarning: Calling int on a single element Series is deprecated and will raise a TypeError in the future. Use int(ser.iloc[0]) instead\n",
      "  predicted_class_label = class_mapping[int(pred_class['EVENTMSGTYPE'])]\n"
     ]
    }
   ],
   "source": [
    "pred_class, pred_idx, outputs = learn.predict(new_data.iloc[2])\n",
    "# Ensure the predicted class maps correctly\n",
    "predicted_class_label = class_mapping[int(pred_class['EVENTMSGTYPE'])]\n",
    "print(f\"Predicted class label: {predicted_class_label}\")\n",
    "\n",
    "print(f\"Prediction index: {pred_idx}\")\n",
    "print(f\"Raw outputs: {outputs}\")"
   ]
  },
  {
   "cell_type": "code",
   "execution_count": null,
   "id": "f2770897-bfd5-4413-89a1-7110d8c6fdc5",
   "metadata": {},
   "outputs": [],
   "source": []
  }
 ],
 "metadata": {
  "kernelspec": {
   "display_name": "Python 3 (ipykernel)",
   "language": "python",
   "name": "python3"
  },
  "language_info": {
   "codemirror_mode": {
    "name": "ipython",
    "version": 3
   },
   "file_extension": ".py",
   "mimetype": "text/x-python",
   "name": "python",
   "nbconvert_exporter": "python",
   "pygments_lexer": "ipython3",
   "version": "3.11.5"
  }
 },
 "nbformat": 4,
 "nbformat_minor": 5
}
